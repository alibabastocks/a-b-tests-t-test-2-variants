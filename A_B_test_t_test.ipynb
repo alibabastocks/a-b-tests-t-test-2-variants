{
  "nbformat": 4,
  "nbformat_minor": 0,
  "metadata": {
    "colab": {
      "provenance": [],
      "authorship_tag": "ABX9TyMLTebBETWZCXjV6qn+B/eS",
      "include_colab_link": true
    },
    "kernelspec": {
      "name": "python3",
      "display_name": "Python 3"
    },
    "language_info": {
      "name": "python"
    }
  },
  "cells": [
    {
      "cell_type": "markdown",
      "metadata": {
        "id": "view-in-github",
        "colab_type": "text"
      },
      "source": [
        "<a href=\"https://colab.research.google.com/github/alibabastocks/a-b-tests-t-test-2-variants/blob/main/A_B_test_t_test.ipynb\" target=\"_parent\"><img src=\"https://colab.research.google.com/assets/colab-badge.svg\" alt=\"Open In Colab\"/></a>"
      ]
    },
    {
      "cell_type": "code",
      "execution_count": null,
      "metadata": {
        "colab": {
          "base_uri": "https://localhost:8080/"
        },
        "id": "y1_dSocyACrd",
        "outputId": "69ced9d7-ac76-4b57-e8c3-0f0fb1026d27"
      },
      "outputs": [
        {
          "output_type": "stream",
          "name": "stdout",
          "text": [
            "Requirement already satisfied: numPy in /usr/local/lib/python3.10/dist-packages (1.25.2)\n",
            "Requirement already satisfied: scipy in /usr/local/lib/python3.10/dist-packages (1.11.4)\n",
            "Requirement already satisfied: numpy<1.28.0,>=1.21.6 in /usr/local/lib/python3.10/dist-packages (from scipy) (1.25.2)\n",
            "Requirement already satisfied: matplotlib in /usr/local/lib/python3.10/dist-packages (3.7.1)\n",
            "Requirement already satisfied: contourpy>=1.0.1 in /usr/local/lib/python3.10/dist-packages (from matplotlib) (1.2.0)\n",
            "Requirement already satisfied: cycler>=0.10 in /usr/local/lib/python3.10/dist-packages (from matplotlib) (0.12.1)\n",
            "Requirement already satisfied: fonttools>=4.22.0 in /usr/local/lib/python3.10/dist-packages (from matplotlib) (4.49.0)\n",
            "Requirement already satisfied: kiwisolver>=1.0.1 in /usr/local/lib/python3.10/dist-packages (from matplotlib) (1.4.5)\n",
            "Requirement already satisfied: numpy>=1.20 in /usr/local/lib/python3.10/dist-packages (from matplotlib) (1.25.2)\n",
            "Requirement already satisfied: packaging>=20.0 in /usr/local/lib/python3.10/dist-packages (from matplotlib) (23.2)\n",
            "Requirement already satisfied: pillow>=6.2.0 in /usr/local/lib/python3.10/dist-packages (from matplotlib) (9.4.0)\n",
            "Requirement already satisfied: pyparsing>=2.3.1 in /usr/local/lib/python3.10/dist-packages (from matplotlib) (3.1.1)\n",
            "Requirement already satisfied: python-dateutil>=2.7 in /usr/local/lib/python3.10/dist-packages (from matplotlib) (2.8.2)\n",
            "Requirement already satisfied: six>=1.5 in /usr/local/lib/python3.10/dist-packages (from python-dateutil>=2.7->matplotlib) (1.16.0)\n"
          ]
        }
      ],
      "source": [
        "# Analyse a/b tests\n",
        "## test w 2 variants (A vd V)\n",
        "\n",
        "# install libraries\n",
        "!pip install numPy\n",
        "!pip install scipy\n",
        "!pip install matplotlib"
      ]
    },
    {
      "cell_type": "code",
      "source": [
        "import numpy as np\n",
        "\n",
        "# Generating the data\n",
        "version_A = np.random.normal(loc=10, scale=2, size=1000)\n",
        "version_B = np.random.normal(loc=12, scale=2, size=1000)"
      ],
      "metadata": {
        "id": "h1jVc_FiCHJG"
      },
      "execution_count": null,
      "outputs": []
    },
    {
      "cell_type": "code",
      "source": [
        "from scipy.stats import ttest_ind\n",
        "\n",
        "# Performing the t-test\n",
        "t, p = ttest_ind(version_A, version_B)\n",
        "\n",
        "# Printing the result\n",
        "print(f\"t = {t:.3f}\")\n",
        "print(f\"p = {p:.3f}\")"
      ],
      "metadata": {
        "colab": {
          "base_uri": "https://localhost:8080/"
        },
        "id": "9rySACajCaTM",
        "outputId": "0e85bece-4e67-4106-ee2d-eeab5a0f8d5a"
      },
      "execution_count": null,
      "outputs": [
        {
          "output_type": "stream",
          "name": "stdout",
          "text": [
            "t = -22.803\n",
            "p = 0.000\n"
          ]
        }
      ]
    },
    {
      "cell_type": "markdown",
      "source": [
        "How to read:\n",
        "\n",
        "The p-value of 0.000 indicates that the observed differences between the two versions are statistically significant and that the difference between the means is very unlikely to be due to chance.\n",
        "\n",
        "A negative value of t indicates that the mean of version A is smaller than the mean of version B.\n",
        "\n",
        "A positive value of t indicates that the mean of version A is larger than the mean of version B.\n",
        "\n",
        "The absolute value of t indicates how large the difference is (same unit as the mean)."
      ],
      "metadata": {
        "id": "ZI9RGsovDAmS"
      }
    },
    {
      "cell_type": "code",
      "source": [
        "import matplotlib.pyplot as plt\n",
        "\n",
        "# Calculating the means\n",
        "mean_A = np.mean(version_A)\n",
        "mean_B = np.mean(version_B)\n",
        "\n",
        "# Plotting the data\n",
        "plt.hist(version_A, alpha=0.5, label='Version A')\n",
        "plt.hist(version_B, alpha=0.5, label='Version B')\n",
        "plt.axvline(mean_A, color='r', linestyle='dashed', linewidth=1)\n",
        "plt.axvline(mean_B, color='b', linestyle='dashed', linewidth=1)\n",
        "plt.legend(loc='upper right')\n",
        "plt.show()"
      ],
      "metadata": {
        "colab": {
          "base_uri": "https://localhost:8080/",
          "height": 251
        },
        "id": "YbPoDqSKDqu9",
        "outputId": "f39d3613-cad8-4ce0-d0b1-7aeeaae3a464"
      },
      "execution_count": null,
      "outputs": [
        {
          "output_type": "display_data",
          "data": {
            "text/plain": [
              "<Figure size 640x480 with 1 Axes>"
            ],
            "image/png": "[encoded data removed]"
          },
          "metadata": {}
        }
      ]
    }
  ]
}