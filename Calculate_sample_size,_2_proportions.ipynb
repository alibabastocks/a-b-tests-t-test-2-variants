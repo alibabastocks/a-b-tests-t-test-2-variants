{
  "nbformat": 4,
  "nbformat_minor": 0,
  "metadata": {
    "colab": {
      "provenance": [],
      "authorship_tag": "ABX9TyNkaUdfb1TGTH6VKYnfD0pX",
      "include_colab_link": true
    },
    "kernelspec": {
      "name": "python3",
      "display_name": "Python 3"
    },
    "language_info": {
      "name": "python"
    }
  },
  "cells": [
    {
      "cell_type": "markdown",
      "metadata": {
        "id": "view-in-github",
        "colab_type": "text"
      },
      "source": [
        "<a href=\"https://colab.research.google.com/github/alibabastocks/a-b-tests-t-test-2-variants/blob/main/Calculate_sample_size%2C_2_proportions.ipynb\" target=\"_parent\"><img src=\"https://colab.research.google.com/assets/colab-badge.svg\" alt=\"Open In Colab\"/></a>"
      ]
    },
    {
      "cell_type": "markdown",
      "source": [
        "# Sample Size Calculator\n",
        "Test to calculate the sample needs to test 2 proportions.\n",
        "\n",
        "*   Binary distribution\n",
        "\n"
      ],
      "metadata": {
        "id": "9zJYqrhxyV5q"
      }
    },
    {
      "cell_type": "code",
      "source": [
        "import numpy as np\n",
        "import statsmodels.api as sm\n",
        "import statsmodels.stats.power\n",
        "\n",
        "# Input Baseline\n",
        "p_A=(0.15)\n",
        "\n",
        "# Input new baseline\n",
        "p_new = (0.18)\n",
        "\n",
        "# Input ration of traffic to p_A and p_new\n",
        "traffic_p_A = 0.5\n",
        "traffic_p_new = 0.5\n",
        "traffic_ratio = traffic_p_A/traffic_p_new\n",
        "\n",
        "## Calculate standardized effect size\n",
        "effect_size_std = sm.stats.proportion_effectsize(p_new, p_A)\n",
        "\n",
        "## Calculate the required sample size per group\n",
        "sample_size = statsmodels.stats.power.TTestIndPower().solve_power(effect_size=effect_size_std, power=.80, alpha=.05, nobs1=None, ratio = traffic_ratio)\n",
        "\n",
        "if sample_size is None:\n",
        "  print(\"Sample size calculation failed.\")\n",
        "else:\n",
        "  print(\"Sample size needed per variation is\", round(sample_size))"
      ],
      "metadata": {
        "colab": {
          "base_uri": "https://localhost:8080/"
        },
        "id": "7wgNBM3wm9ea",
        "outputId": "a795c062-5558-4657-d7f6-8d3ff9501ee9"
      },
      "execution_count": null,
      "outputs": [
        {
          "output_type": "stream",
          "name": "stdout",
          "text": [
            "Sample size needed per variation is 2400\n"
          ]
        }
      ]
    },
    {
      "cell_type": "markdown",
      "source": [
        "New Section"
      ],
      "metadata": {
        "id": "GQ_oELD0yF1_"
      }
    }
  ]
}